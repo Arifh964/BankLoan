{
 "cells": [
  {
   "cell_type": "code",
   "execution_count": null,
   "metadata": {},
   "outputs": [],
   "source": [
    "\"\"\"\n",
    "The model makes a predictive analysis based upon previous record of the customer data.\n",
    "The model uses the various component os customers like age, experience, income as an input.\n",
    "Now, The model analyses these input components and then gives the output in the form wether it is suitable or not to give a loan to a particular customer.\n",
    "\n",
    "This kinds of prediction is not possible normally but with the help of some mathematical algorithms(i.e logistic regression) over a huge dataset it become possible to get an accurate prediction.\n",
    "It helps the banking system to get rid off fraudulance.\n",
    "\"\"\""
   ]
  }
 ],
 "metadata": {
  "kernelspec": {
   "display_name": "Python 3",
   "language": "python",
   "name": "python3"
  },
  "language_info": {
   "codemirror_mode": {
    "name": "ipython",
    "version": 3
   },
   "file_extension": ".py",
   "mimetype": "text/x-python",
   "name": "python",
   "nbconvert_exporter": "python",
   "pygments_lexer": "ipython3",
   "version": "3.7.4"
  }
 },
 "nbformat": 4,
 "nbformat_minor": 2
}
